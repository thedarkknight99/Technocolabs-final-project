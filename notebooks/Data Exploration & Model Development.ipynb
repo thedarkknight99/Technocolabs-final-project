{
 "cells": [
  {
   "cell_type": "code",
   "execution_count": 1,
   "metadata": {},
   "outputs": [],
   "source": [
    "import numpy as np\n",
    "import pandas as pd\n",
    "import seaborn as sns\n",
    "import matplotlib.pyplot as plt\n",
    "import pickle\n",
    "# This is just to make plots appear in the notebook\n",
    "%matplotlib inline\n",
    "\n",
    "from sklearn import preprocessing\n",
    "from sklearn.decomposition import PCA\n",
    "from sklearn.model_selection import train_test_split\n",
    "from sklearn.tree import DecisionTreeClassifier\n",
    "from sklearn.linear_model import LogisticRegression"
   ]
  },
  {
   "cell_type": "code",
   "execution_count": 2,
   "metadata": {},
   "outputs": [
    {
     "data": {
      "text/html": [
       "<div>\n",
       "<style scoped>\n",
       "    .dataframe tbody tr th:only-of-type {\n",
       "        vertical-align: middle;\n",
       "    }\n",
       "\n",
       "    .dataframe tbody tr th {\n",
       "        vertical-align: top;\n",
       "    }\n",
       "\n",
       "    .dataframe thead th {\n",
       "        text-align: right;\n",
       "    }\n",
       "</style>\n",
       "<table border=\"1\" class=\"dataframe\">\n",
       "  <thead>\n",
       "    <tr style=\"text-align: right;\">\n",
       "      <th></th>\n",
       "      <th>track_id</th>\n",
       "      <th>acousticness</th>\n",
       "      <th>danceability</th>\n",
       "      <th>energy</th>\n",
       "      <th>instrumentalness</th>\n",
       "      <th>liveness</th>\n",
       "      <th>speechiness</th>\n",
       "      <th>tempo</th>\n",
       "      <th>valence</th>\n",
       "      <th>genre_top</th>\n",
       "    </tr>\n",
       "  </thead>\n",
       "  <tbody>\n",
       "    <tr>\n",
       "      <th>0</th>\n",
       "      <td>2</td>\n",
       "      <td>0.416675</td>\n",
       "      <td>0.675894</td>\n",
       "      <td>0.634476</td>\n",
       "      <td>0.010628</td>\n",
       "      <td>0.177647</td>\n",
       "      <td>0.159310</td>\n",
       "      <td>165.922</td>\n",
       "      <td>0.576661</td>\n",
       "      <td>Hip-Hop</td>\n",
       "    </tr>\n",
       "    <tr>\n",
       "      <th>1</th>\n",
       "      <td>3</td>\n",
       "      <td>0.374408</td>\n",
       "      <td>0.528643</td>\n",
       "      <td>0.817461</td>\n",
       "      <td>0.001851</td>\n",
       "      <td>0.105880</td>\n",
       "      <td>0.461818</td>\n",
       "      <td>126.957</td>\n",
       "      <td>0.269240</td>\n",
       "      <td>Hip-Hop</td>\n",
       "    </tr>\n",
       "    <tr>\n",
       "      <th>2</th>\n",
       "      <td>5</td>\n",
       "      <td>0.043567</td>\n",
       "      <td>0.745566</td>\n",
       "      <td>0.701470</td>\n",
       "      <td>0.000697</td>\n",
       "      <td>0.373143</td>\n",
       "      <td>0.124595</td>\n",
       "      <td>100.260</td>\n",
       "      <td>0.621661</td>\n",
       "      <td>Hip-Hop</td>\n",
       "    </tr>\n",
       "    <tr>\n",
       "      <th>3</th>\n",
       "      <td>134</td>\n",
       "      <td>0.452217</td>\n",
       "      <td>0.513238</td>\n",
       "      <td>0.560410</td>\n",
       "      <td>0.019443</td>\n",
       "      <td>0.096567</td>\n",
       "      <td>0.525519</td>\n",
       "      <td>114.290</td>\n",
       "      <td>0.894072</td>\n",
       "      <td>Hip-Hop</td>\n",
       "    </tr>\n",
       "    <tr>\n",
       "      <th>4</th>\n",
       "      <td>153</td>\n",
       "      <td>0.988306</td>\n",
       "      <td>0.255661</td>\n",
       "      <td>0.979774</td>\n",
       "      <td>0.973006</td>\n",
       "      <td>0.121342</td>\n",
       "      <td>0.051740</td>\n",
       "      <td>90.241</td>\n",
       "      <td>0.034018</td>\n",
       "      <td>Rock</td>\n",
       "    </tr>\n",
       "    <tr>\n",
       "      <th>5</th>\n",
       "      <td>154</td>\n",
       "      <td>0.970135</td>\n",
       "      <td>0.352946</td>\n",
       "      <td>0.023852</td>\n",
       "      <td>0.957113</td>\n",
       "      <td>0.113261</td>\n",
       "      <td>0.032177</td>\n",
       "      <td>53.758</td>\n",
       "      <td>0.035632</td>\n",
       "      <td>Rock</td>\n",
       "    </tr>\n",
       "    <tr>\n",
       "      <th>6</th>\n",
       "      <td>155</td>\n",
       "      <td>0.981657</td>\n",
       "      <td>0.142249</td>\n",
       "      <td>0.912122</td>\n",
       "      <td>0.967294</td>\n",
       "      <td>0.363510</td>\n",
       "      <td>0.087527</td>\n",
       "      <td>91.912</td>\n",
       "      <td>0.034325</td>\n",
       "      <td>Rock</td>\n",
       "    </tr>\n",
       "    <tr>\n",
       "      <th>7</th>\n",
       "      <td>169</td>\n",
       "      <td>0.989141</td>\n",
       "      <td>0.225978</td>\n",
       "      <td>0.722835</td>\n",
       "      <td>0.263076</td>\n",
       "      <td>0.092371</td>\n",
       "      <td>0.053406</td>\n",
       "      <td>94.322</td>\n",
       "      <td>0.028347</td>\n",
       "      <td>Rock</td>\n",
       "    </tr>\n",
       "    <tr>\n",
       "      <th>8</th>\n",
       "      <td>170</td>\n",
       "      <td>0.886660</td>\n",
       "      <td>0.298518</td>\n",
       "      <td>0.744333</td>\n",
       "      <td>0.920950</td>\n",
       "      <td>0.139587</td>\n",
       "      <td>0.088781</td>\n",
       "      <td>97.880</td>\n",
       "      <td>0.073548</td>\n",
       "      <td>Rock</td>\n",
       "    </tr>\n",
       "    <tr>\n",
       "      <th>9</th>\n",
       "      <td>171</td>\n",
       "      <td>0.698278</td>\n",
       "      <td>0.285816</td>\n",
       "      <td>0.213494</td>\n",
       "      <td>0.955691</td>\n",
       "      <td>0.087036</td>\n",
       "      <td>0.064094</td>\n",
       "      <td>125.645</td>\n",
       "      <td>0.150599</td>\n",
       "      <td>Rock</td>\n",
       "    </tr>\n",
       "  </tbody>\n",
       "</table>\n",
       "</div>"
      ],
      "text/plain": [
       "   track_id  acousticness  danceability    energy  instrumentalness  liveness  \\\n",
       "0         2      0.416675      0.675894  0.634476          0.010628  0.177647   \n",
       "1         3      0.374408      0.528643  0.817461          0.001851  0.105880   \n",
       "2         5      0.043567      0.745566  0.701470          0.000697  0.373143   \n",
       "3       134      0.452217      0.513238  0.560410          0.019443  0.096567   \n",
       "4       153      0.988306      0.255661  0.979774          0.973006  0.121342   \n",
       "5       154      0.970135      0.352946  0.023852          0.957113  0.113261   \n",
       "6       155      0.981657      0.142249  0.912122          0.967294  0.363510   \n",
       "7       169      0.989141      0.225978  0.722835          0.263076  0.092371   \n",
       "8       170      0.886660      0.298518  0.744333          0.920950  0.139587   \n",
       "9       171      0.698278      0.285816  0.213494          0.955691  0.087036   \n",
       "\n",
       "   speechiness    tempo   valence genre_top  \n",
       "0     0.159310  165.922  0.576661   Hip-Hop  \n",
       "1     0.461818  126.957  0.269240   Hip-Hop  \n",
       "2     0.124595  100.260  0.621661   Hip-Hop  \n",
       "3     0.525519  114.290  0.894072   Hip-Hop  \n",
       "4     0.051740   90.241  0.034018      Rock  \n",
       "5     0.032177   53.758  0.035632      Rock  \n",
       "6     0.087527   91.912  0.034325      Rock  \n",
       "7     0.053406   94.322  0.028347      Rock  \n",
       "8     0.088781   97.880  0.073548      Rock  \n",
       "9     0.064094  125.645  0.150599      Rock  "
      ]
     },
     "execution_count": 2,
     "metadata": {},
     "output_type": "execute_result"
    }
   ],
   "source": [
    "df = pd.read_csv('cleaned.csv', index_col=None)\n",
    "df.head(10)"
   ]
  },
  {
   "cell_type": "markdown",
   "metadata": {},
   "source": [
    "### Pairwise relationships between continuous variables"
   ]
  },
  {
   "cell_type": "markdown",
   "metadata": {},
   "source": [
    "We typically want to avoid using variables that have strong correlations with each other, hence avoiding feature redundancy to keep the model simple and improve interpretability (with many features, we run the risk of overfitting).\n",
    "When our datasets are very large, using fewer features can drastically speed up our computation time."
   ]
  },
  {
   "cell_type": "code",
   "execution_count": 3,
   "metadata": {},
   "outputs": [
    {
     "data": {
      "text/html": [
       "<style  type=\"text/css\" >\n",
       "    #T_254f3dda_ed34_11ea_8042_40a3ccdf2667row0_col0 {\n",
       "            background-color:  #023858;\n",
       "            color:  #f1f1f1;\n",
       "        }    #T_254f3dda_ed34_11ea_8042_40a3ccdf2667row0_col1 {\n",
       "            background-color:  #fff7fb;\n",
       "            color:  #000000;\n",
       "        }    #T_254f3dda_ed34_11ea_8042_40a3ccdf2667row0_col2 {\n",
       "            background-color:  #d2d2e7;\n",
       "            color:  #000000;\n",
       "        }    #T_254f3dda_ed34_11ea_8042_40a3ccdf2667row0_col3 {\n",
       "            background-color:  #b5c4df;\n",
       "            color:  #000000;\n",
       "        }    #T_254f3dda_ed34_11ea_8042_40a3ccdf2667row0_col4 {\n",
       "            background-color:  #f5eef6;\n",
       "            color:  #000000;\n",
       "        }    #T_254f3dda_ed34_11ea_8042_40a3ccdf2667row0_col5 {\n",
       "            background-color:  #e9e5f1;\n",
       "            color:  #000000;\n",
       "        }    #T_254f3dda_ed34_11ea_8042_40a3ccdf2667row0_col6 {\n",
       "            background-color:  #d1d2e6;\n",
       "            color:  #000000;\n",
       "        }    #T_254f3dda_ed34_11ea_8042_40a3ccdf2667row0_col7 {\n",
       "            background-color:  #e1dfed;\n",
       "            color:  #000000;\n",
       "        }    #T_254f3dda_ed34_11ea_8042_40a3ccdf2667row0_col8 {\n",
       "            background-color:  #dedcec;\n",
       "            color:  #000000;\n",
       "        }    #T_254f3dda_ed34_11ea_8042_40a3ccdf2667row1_col0 {\n",
       "            background-color:  #fff7fb;\n",
       "            color:  #000000;\n",
       "        }    #T_254f3dda_ed34_11ea_8042_40a3ccdf2667row1_col1 {\n",
       "            background-color:  #023858;\n",
       "            color:  #f1f1f1;\n",
       "        }    #T_254f3dda_ed34_11ea_8042_40a3ccdf2667row1_col2 {\n",
       "            background-color:  #e0dded;\n",
       "            color:  #000000;\n",
       "        }    #T_254f3dda_ed34_11ea_8042_40a3ccdf2667row1_col3 {\n",
       "            background-color:  #fff7fb;\n",
       "            color:  #000000;\n",
       "        }    #T_254f3dda_ed34_11ea_8042_40a3ccdf2667row1_col4 {\n",
       "            background-color:  #97b7d7;\n",
       "            color:  #000000;\n",
       "        }    #T_254f3dda_ed34_11ea_8042_40a3ccdf2667row1_col5 {\n",
       "            background-color:  #f3edf5;\n",
       "            color:  #000000;\n",
       "        }    #T_254f3dda_ed34_11ea_8042_40a3ccdf2667row1_col6 {\n",
       "            background-color:  #b8c6e0;\n",
       "            color:  #000000;\n",
       "        }    #T_254f3dda_ed34_11ea_8042_40a3ccdf2667row1_col7 {\n",
       "            background-color:  #e1dfed;\n",
       "            color:  #000000;\n",
       "        }    #T_254f3dda_ed34_11ea_8042_40a3ccdf2667row1_col8 {\n",
       "            background-color:  #e2dfee;\n",
       "            color:  #000000;\n",
       "        }    #T_254f3dda_ed34_11ea_8042_40a3ccdf2667row2_col0 {\n",
       "            background-color:  #bdc8e1;\n",
       "            color:  #000000;\n",
       "        }    #T_254f3dda_ed34_11ea_8042_40a3ccdf2667row2_col1 {\n",
       "            background-color:  #d0d1e6;\n",
       "            color:  #000000;\n",
       "        }    #T_254f3dda_ed34_11ea_8042_40a3ccdf2667row2_col2 {\n",
       "            background-color:  #023858;\n",
       "            color:  #f1f1f1;\n",
       "        }    #T_254f3dda_ed34_11ea_8042_40a3ccdf2667row2_col3 {\n",
       "            background-color:  #fbf3f9;\n",
       "            color:  #000000;\n",
       "        }    #T_254f3dda_ed34_11ea_8042_40a3ccdf2667row2_col4 {\n",
       "            background-color:  #f3edf5;\n",
       "            color:  #000000;\n",
       "        }    #T_254f3dda_ed34_11ea_8042_40a3ccdf2667row2_col5 {\n",
       "            background-color:  #fff7fb;\n",
       "            color:  #000000;\n",
       "        }    #T_254f3dda_ed34_11ea_8042_40a3ccdf2667row2_col6 {\n",
       "            background-color:  #80aed2;\n",
       "            color:  #000000;\n",
       "        }    #T_254f3dda_ed34_11ea_8042_40a3ccdf2667row2_col7 {\n",
       "            background-color:  #fff7fb;\n",
       "            color:  #000000;\n",
       "        }    #T_254f3dda_ed34_11ea_8042_40a3ccdf2667row2_col8 {\n",
       "            background-color:  #529bc7;\n",
       "            color:  #000000;\n",
       "        }    #T_254f3dda_ed34_11ea_8042_40a3ccdf2667row3_col0 {\n",
       "            background-color:  #a7bddb;\n",
       "            color:  #000000;\n",
       "        }    #T_254f3dda_ed34_11ea_8042_40a3ccdf2667row3_col1 {\n",
       "            background-color:  #f5eff6;\n",
       "            color:  #000000;\n",
       "        }    #T_254f3dda_ed34_11ea_8042_40a3ccdf2667row3_col2 {\n",
       "            background-color:  #fef6fa;\n",
       "            color:  #000000;\n",
       "        }    #T_254f3dda_ed34_11ea_8042_40a3ccdf2667row3_col3 {\n",
       "            background-color:  #023858;\n",
       "            color:  #f1f1f1;\n",
       "        }    #T_254f3dda_ed34_11ea_8042_40a3ccdf2667row3_col4 {\n",
       "            background-color:  #c4cbe3;\n",
       "            color:  #000000;\n",
       "        }    #T_254f3dda_ed34_11ea_8042_40a3ccdf2667row3_col5 {\n",
       "            background-color:  #dcdaeb;\n",
       "            color:  #000000;\n",
       "        }    #T_254f3dda_ed34_11ea_8042_40a3ccdf2667row3_col6 {\n",
       "            background-color:  #dedcec;\n",
       "            color:  #000000;\n",
       "        }    #T_254f3dda_ed34_11ea_8042_40a3ccdf2667row3_col7 {\n",
       "            background-color:  #adc1dd;\n",
       "            color:  #000000;\n",
       "        }    #T_254f3dda_ed34_11ea_8042_40a3ccdf2667row3_col8 {\n",
       "            background-color:  #d9d8ea;\n",
       "            color:  #000000;\n",
       "        }    #T_254f3dda_ed34_11ea_8042_40a3ccdf2667row4_col0 {\n",
       "            background-color:  #f4eef6;\n",
       "            color:  #000000;\n",
       "        }    #T_254f3dda_ed34_11ea_8042_40a3ccdf2667row4_col1 {\n",
       "            background-color:  #97b7d7;\n",
       "            color:  #000000;\n",
       "        }    #T_254f3dda_ed34_11ea_8042_40a3ccdf2667row4_col2 {\n",
       "            background-color:  #fff7fb;\n",
       "            color:  #000000;\n",
       "        }    #T_254f3dda_ed34_11ea_8042_40a3ccdf2667row4_col3 {\n",
       "            background-color:  #d2d3e7;\n",
       "            color:  #000000;\n",
       "        }    #T_254f3dda_ed34_11ea_8042_40a3ccdf2667row4_col4 {\n",
       "            background-color:  #023858;\n",
       "            color:  #f1f1f1;\n",
       "        }    #T_254f3dda_ed34_11ea_8042_40a3ccdf2667row4_col5 {\n",
       "            background-color:  #fdf5fa;\n",
       "            color:  #000000;\n",
       "        }    #T_254f3dda_ed34_11ea_8042_40a3ccdf2667row4_col6 {\n",
       "            background-color:  #fff7fb;\n",
       "            color:  #000000;\n",
       "        }    #T_254f3dda_ed34_11ea_8042_40a3ccdf2667row4_col7 {\n",
       "            background-color:  #d9d8ea;\n",
       "            color:  #000000;\n",
       "        }    #T_254f3dda_ed34_11ea_8042_40a3ccdf2667row4_col8 {\n",
       "            background-color:  #fff7fb;\n",
       "            color:  #000000;\n",
       "        }    #T_254f3dda_ed34_11ea_8042_40a3ccdf2667row5_col0 {\n",
       "            background-color:  #bdc8e1;\n",
       "            color:  #000000;\n",
       "        }    #T_254f3dda_ed34_11ea_8042_40a3ccdf2667row5_col1 {\n",
       "            background-color:  #ced0e6;\n",
       "            color:  #000000;\n",
       "        }    #T_254f3dda_ed34_11ea_8042_40a3ccdf2667row5_col2 {\n",
       "            background-color:  #ede8f3;\n",
       "            color:  #000000;\n",
       "        }    #T_254f3dda_ed34_11ea_8042_40a3ccdf2667row5_col3 {\n",
       "            background-color:  #bdc8e1;\n",
       "            color:  #000000;\n",
       "        }    #T_254f3dda_ed34_11ea_8042_40a3ccdf2667row5_col4 {\n",
       "            background-color:  #dbdaeb;\n",
       "            color:  #000000;\n",
       "        }    #T_254f3dda_ed34_11ea_8042_40a3ccdf2667row5_col5 {\n",
       "            background-color:  #023858;\n",
       "            color:  #f1f1f1;\n",
       "        }    #T_254f3dda_ed34_11ea_8042_40a3ccdf2667row5_col6 {\n",
       "            background-color:  #c0c9e2;\n",
       "            color:  #000000;\n",
       "        }    #T_254f3dda_ed34_11ea_8042_40a3ccdf2667row5_col7 {\n",
       "            background-color:  #dcdaeb;\n",
       "            color:  #000000;\n",
       "        }    #T_254f3dda_ed34_11ea_8042_40a3ccdf2667row5_col8 {\n",
       "            background-color:  #e8e4f0;\n",
       "            color:  #000000;\n",
       "        }    #T_254f3dda_ed34_11ea_8042_40a3ccdf2667row6_col0 {\n",
       "            background-color:  #d0d1e6;\n",
       "            color:  #000000;\n",
       "        }    #T_254f3dda_ed34_11ea_8042_40a3ccdf2667row6_col1 {\n",
       "            background-color:  #b8c6e0;\n",
       "            color:  #000000;\n",
       "        }    #T_254f3dda_ed34_11ea_8042_40a3ccdf2667row6_col2 {\n",
       "            background-color:  #93b5d6;\n",
       "            color:  #000000;\n",
       "        }    #T_254f3dda_ed34_11ea_8042_40a3ccdf2667row6_col3 {\n",
       "            background-color:  #eae6f1;\n",
       "            color:  #000000;\n",
       "        }    #T_254f3dda_ed34_11ea_8042_40a3ccdf2667row6_col4 {\n",
       "            background-color:  #fff7fb;\n",
       "            color:  #000000;\n",
       "        }    #T_254f3dda_ed34_11ea_8042_40a3ccdf2667row6_col5 {\n",
       "            background-color:  #eae6f1;\n",
       "            color:  #000000;\n",
       "        }    #T_254f3dda_ed34_11ea_8042_40a3ccdf2667row6_col6 {\n",
       "            background-color:  #023858;\n",
       "            color:  #f1f1f1;\n",
       "        }    #T_254f3dda_ed34_11ea_8042_40a3ccdf2667row6_col7 {\n",
       "            background-color:  #dbdaeb;\n",
       "            color:  #000000;\n",
       "        }    #T_254f3dda_ed34_11ea_8042_40a3ccdf2667row6_col8 {\n",
       "            background-color:  #bfc9e1;\n",
       "            color:  #000000;\n",
       "        }    #T_254f3dda_ed34_11ea_8042_40a3ccdf2667row7_col0 {\n",
       "            background-color:  #d0d1e6;\n",
       "            color:  #000000;\n",
       "        }    #T_254f3dda_ed34_11ea_8042_40a3ccdf2667row7_col1 {\n",
       "            background-color:  #d0d1e6;\n",
       "            color:  #000000;\n",
       "        }    #T_254f3dda_ed34_11ea_8042_40a3ccdf2667row7_col2 {\n",
       "            background-color:  #fef6fa;\n",
       "            color:  #000000;\n",
       "        }    #T_254f3dda_ed34_11ea_8042_40a3ccdf2667row7_col3 {\n",
       "            background-color:  #a7bddb;\n",
       "            color:  #000000;\n",
       "        }    #T_254f3dda_ed34_11ea_8042_40a3ccdf2667row7_col4 {\n",
       "            background-color:  #c5cce3;\n",
       "            color:  #000000;\n",
       "        }    #T_254f3dda_ed34_11ea_8042_40a3ccdf2667row7_col5 {\n",
       "            background-color:  #f0eaf4;\n",
       "            color:  #000000;\n",
       "        }    #T_254f3dda_ed34_11ea_8042_40a3ccdf2667row7_col6 {\n",
       "            background-color:  #c8cde4;\n",
       "            color:  #000000;\n",
       "        }    #T_254f3dda_ed34_11ea_8042_40a3ccdf2667row7_col7 {\n",
       "            background-color:  #023858;\n",
       "            color:  #f1f1f1;\n",
       "        }    #T_254f3dda_ed34_11ea_8042_40a3ccdf2667row7_col8 {\n",
       "            background-color:  #d6d6e9;\n",
       "            color:  #000000;\n",
       "        }    #T_254f3dda_ed34_11ea_8042_40a3ccdf2667row8_col0 {\n",
       "            background-color:  #c6cce3;\n",
       "            color:  #000000;\n",
       "        }    #T_254f3dda_ed34_11ea_8042_40a3ccdf2667row8_col1 {\n",
       "            background-color:  #cdd0e5;\n",
       "            color:  #000000;\n",
       "        }    #T_254f3dda_ed34_11ea_8042_40a3ccdf2667row8_col2 {\n",
       "            background-color:  #4c99c5;\n",
       "            color:  #000000;\n",
       "        }    #T_254f3dda_ed34_11ea_8042_40a3ccdf2667row8_col3 {\n",
       "            background-color:  #d1d2e6;\n",
       "            color:  #000000;\n",
       "        }    #T_254f3dda_ed34_11ea_8042_40a3ccdf2667row8_col4 {\n",
       "            background-color:  #efe9f3;\n",
       "            color:  #000000;\n",
       "        }    #T_254f3dda_ed34_11ea_8042_40a3ccdf2667row8_col5 {\n",
       "            background-color:  #f7f0f7;\n",
       "            color:  #000000;\n",
       "        }    #T_254f3dda_ed34_11ea_8042_40a3ccdf2667row8_col6 {\n",
       "            background-color:  #a5bddb;\n",
       "            color:  #000000;\n",
       "        }    #T_254f3dda_ed34_11ea_8042_40a3ccdf2667row8_col7 {\n",
       "            background-color:  #d3d4e7;\n",
       "            color:  #000000;\n",
       "        }    #T_254f3dda_ed34_11ea_8042_40a3ccdf2667row8_col8 {\n",
       "            background-color:  #023858;\n",
       "            color:  #f1f1f1;\n",
       "        }</style><table id=\"T_254f3dda_ed34_11ea_8042_40a3ccdf2667\" ><thead>    <tr>        <th class=\"blank level0\" ></th>        <th class=\"col_heading level0 col0\" >track_id</th>        <th class=\"col_heading level0 col1\" >acousticness</th>        <th class=\"col_heading level0 col2\" >danceability</th>        <th class=\"col_heading level0 col3\" >energy</th>        <th class=\"col_heading level0 col4\" >instrumentalness</th>        <th class=\"col_heading level0 col5\" >liveness</th>        <th class=\"col_heading level0 col6\" >speechiness</th>        <th class=\"col_heading level0 col7\" >tempo</th>        <th class=\"col_heading level0 col8\" >valence</th>    </tr></thead><tbody>\n",
       "                <tr>\n",
       "                        <th id=\"T_254f3dda_ed34_11ea_8042_40a3ccdf2667level0_row0\" class=\"row_heading level0 row0\" >track_id</th>\n",
       "                        <td id=\"T_254f3dda_ed34_11ea_8042_40a3ccdf2667row0_col0\" class=\"data row0 col0\" >1.000000</td>\n",
       "                        <td id=\"T_254f3dda_ed34_11ea_8042_40a3ccdf2667row0_col1\" class=\"data row0 col1\" >-0.372282</td>\n",
       "                        <td id=\"T_254f3dda_ed34_11ea_8042_40a3ccdf2667row0_col2\" class=\"data row0 col2\" >0.049454</td>\n",
       "                        <td id=\"T_254f3dda_ed34_11ea_8042_40a3ccdf2667row0_col3\" class=\"data row0 col3\" >0.140703</td>\n",
       "                        <td id=\"T_254f3dda_ed34_11ea_8042_40a3ccdf2667row0_col4\" class=\"data row0 col4\" >-0.275623</td>\n",
       "                        <td id=\"T_254f3dda_ed34_11ea_8042_40a3ccdf2667row0_col5\" class=\"data row0 col5\" >0.048231</td>\n",
       "                        <td id=\"T_254f3dda_ed34_11ea_8042_40a3ccdf2667row0_col6\" class=\"data row0 col6\" >-0.026995</td>\n",
       "                        <td id=\"T_254f3dda_ed34_11ea_8042_40a3ccdf2667row0_col7\" class=\"data row0 col7\" >-0.025392</td>\n",
       "                        <td id=\"T_254f3dda_ed34_11ea_8042_40a3ccdf2667row0_col8\" class=\"data row0 col8\" >0.010070</td>\n",
       "            </tr>\n",
       "            <tr>\n",
       "                        <th id=\"T_254f3dda_ed34_11ea_8042_40a3ccdf2667level0_row1\" class=\"row_heading level0 row1\" >acousticness</th>\n",
       "                        <td id=\"T_254f3dda_ed34_11ea_8042_40a3ccdf2667row1_col0\" class=\"data row1 col0\" >-0.372282</td>\n",
       "                        <td id=\"T_254f3dda_ed34_11ea_8042_40a3ccdf2667row1_col1\" class=\"data row1 col1\" >1.000000</td>\n",
       "                        <td id=\"T_254f3dda_ed34_11ea_8042_40a3ccdf2667row1_col2\" class=\"data row1 col2\" >-0.028954</td>\n",
       "                        <td id=\"T_254f3dda_ed34_11ea_8042_40a3ccdf2667row1_col3\" class=\"data row1 col3\" >-0.281619</td>\n",
       "                        <td id=\"T_254f3dda_ed34_11ea_8042_40a3ccdf2667row1_col4\" class=\"data row1 col4\" >0.194780</td>\n",
       "                        <td id=\"T_254f3dda_ed34_11ea_8042_40a3ccdf2667row1_col5\" class=\"data row1 col5\" >-0.019991</td>\n",
       "                        <td id=\"T_254f3dda_ed34_11ea_8042_40a3ccdf2667row1_col6\" class=\"data row1 col6\" >0.072204</td>\n",
       "                        <td id=\"T_254f3dda_ed34_11ea_8042_40a3ccdf2667row1_col7\" class=\"data row1 col7\" >-0.026310</td>\n",
       "                        <td id=\"T_254f3dda_ed34_11ea_8042_40a3ccdf2667row1_col8\" class=\"data row1 col8\" >-0.013841</td>\n",
       "            </tr>\n",
       "            <tr>\n",
       "                        <th id=\"T_254f3dda_ed34_11ea_8042_40a3ccdf2667level0_row2\" class=\"row_heading level0 row2\" >danceability</th>\n",
       "                        <td id=\"T_254f3dda_ed34_11ea_8042_40a3ccdf2667row2_col0\" class=\"data row2 col0\" >0.049454</td>\n",
       "                        <td id=\"T_254f3dda_ed34_11ea_8042_40a3ccdf2667row2_col1\" class=\"data row2 col1\" >-0.028954</td>\n",
       "                        <td id=\"T_254f3dda_ed34_11ea_8042_40a3ccdf2667row2_col2\" class=\"data row2 col2\" >1.000000</td>\n",
       "                        <td id=\"T_254f3dda_ed34_11ea_8042_40a3ccdf2667row2_col3\" class=\"data row2 col3\" >-0.242032</td>\n",
       "                        <td id=\"T_254f3dda_ed34_11ea_8042_40a3ccdf2667row2_col4\" class=\"data row2 col4\" >-0.255217</td>\n",
       "                        <td id=\"T_254f3dda_ed34_11ea_8042_40a3ccdf2667row2_col5\" class=\"data row2 col5\" >-0.106584</td>\n",
       "                        <td id=\"T_254f3dda_ed34_11ea_8042_40a3ccdf2667row2_col6\" class=\"data row2 col6\" >0.276206</td>\n",
       "                        <td id=\"T_254f3dda_ed34_11ea_8042_40a3ccdf2667row2_col7\" class=\"data row2 col7\" >-0.242089</td>\n",
       "                        <td id=\"T_254f3dda_ed34_11ea_8042_40a3ccdf2667row2_col8\" class=\"data row2 col8\" >0.473165</td>\n",
       "            </tr>\n",
       "            <tr>\n",
       "                        <th id=\"T_254f3dda_ed34_11ea_8042_40a3ccdf2667level0_row3\" class=\"row_heading level0 row3\" >energy</th>\n",
       "                        <td id=\"T_254f3dda_ed34_11ea_8042_40a3ccdf2667row3_col0\" class=\"data row3 col0\" >0.140703</td>\n",
       "                        <td id=\"T_254f3dda_ed34_11ea_8042_40a3ccdf2667row3_col1\" class=\"data row3 col1\" >-0.281619</td>\n",
       "                        <td id=\"T_254f3dda_ed34_11ea_8042_40a3ccdf2667row3_col2\" class=\"data row3 col2\" >-0.242032</td>\n",
       "                        <td id=\"T_254f3dda_ed34_11ea_8042_40a3ccdf2667row3_col3\" class=\"data row3 col3\" >1.000000</td>\n",
       "                        <td id=\"T_254f3dda_ed34_11ea_8042_40a3ccdf2667row3_col4\" class=\"data row3 col4\" >0.028238</td>\n",
       "                        <td id=\"T_254f3dda_ed34_11ea_8042_40a3ccdf2667row3_col5\" class=\"data row3 col5\" >0.113331</td>\n",
       "                        <td id=\"T_254f3dda_ed34_11ea_8042_40a3ccdf2667row3_col6\" class=\"data row3 col6\" >-0.109983</td>\n",
       "                        <td id=\"T_254f3dda_ed34_11ea_8042_40a3ccdf2667row3_col7\" class=\"data row3 col7\" >0.195227</td>\n",
       "                        <td id=\"T_254f3dda_ed34_11ea_8042_40a3ccdf2667row3_col8\" class=\"data row3 col8\" >0.038603</td>\n",
       "            </tr>\n",
       "            <tr>\n",
       "                        <th id=\"T_254f3dda_ed34_11ea_8042_40a3ccdf2667level0_row4\" class=\"row_heading level0 row4\" >instrumentalness</th>\n",
       "                        <td id=\"T_254f3dda_ed34_11ea_8042_40a3ccdf2667row4_col0\" class=\"data row4 col0\" >-0.275623</td>\n",
       "                        <td id=\"T_254f3dda_ed34_11ea_8042_40a3ccdf2667row4_col1\" class=\"data row4 col1\" >0.194780</td>\n",
       "                        <td id=\"T_254f3dda_ed34_11ea_8042_40a3ccdf2667row4_col2\" class=\"data row4 col2\" >-0.255217</td>\n",
       "                        <td id=\"T_254f3dda_ed34_11ea_8042_40a3ccdf2667row4_col3\" class=\"data row4 col3\" >0.028238</td>\n",
       "                        <td id=\"T_254f3dda_ed34_11ea_8042_40a3ccdf2667row4_col4\" class=\"data row4 col4\" >1.000000</td>\n",
       "                        <td id=\"T_254f3dda_ed34_11ea_8042_40a3ccdf2667row4_col5\" class=\"data row4 col5\" >-0.091022</td>\n",
       "                        <td id=\"T_254f3dda_ed34_11ea_8042_40a3ccdf2667row4_col6\" class=\"data row4 col6\" >-0.366762</td>\n",
       "                        <td id=\"T_254f3dda_ed34_11ea_8042_40a3ccdf2667row4_col7\" class=\"data row4 col7\" >0.022215</td>\n",
       "                        <td id=\"T_254f3dda_ed34_11ea_8042_40a3ccdf2667row4_col8\" class=\"data row4 col8\" >-0.219967</td>\n",
       "            </tr>\n",
       "            <tr>\n",
       "                        <th id=\"T_254f3dda_ed34_11ea_8042_40a3ccdf2667level0_row5\" class=\"row_heading level0 row5\" >liveness</th>\n",
       "                        <td id=\"T_254f3dda_ed34_11ea_8042_40a3ccdf2667row5_col0\" class=\"data row5 col0\" >0.048231</td>\n",
       "                        <td id=\"T_254f3dda_ed34_11ea_8042_40a3ccdf2667row5_col1\" class=\"data row5 col1\" >-0.019991</td>\n",
       "                        <td id=\"T_254f3dda_ed34_11ea_8042_40a3ccdf2667row5_col2\" class=\"data row5 col2\" >-0.106584</td>\n",
       "                        <td id=\"T_254f3dda_ed34_11ea_8042_40a3ccdf2667row5_col3\" class=\"data row5 col3\" >0.113331</td>\n",
       "                        <td id=\"T_254f3dda_ed34_11ea_8042_40a3ccdf2667row5_col4\" class=\"data row5 col4\" >-0.091022</td>\n",
       "                        <td id=\"T_254f3dda_ed34_11ea_8042_40a3ccdf2667row5_col5\" class=\"data row5 col5\" >1.000000</td>\n",
       "                        <td id=\"T_254f3dda_ed34_11ea_8042_40a3ccdf2667row5_col6\" class=\"data row5 col6\" >0.041173</td>\n",
       "                        <td id=\"T_254f3dda_ed34_11ea_8042_40a3ccdf2667row5_col7\" class=\"data row5 col7\" >0.002732</td>\n",
       "                        <td id=\"T_254f3dda_ed34_11ea_8042_40a3ccdf2667row5_col8\" class=\"data row5 col8\" >-0.045093</td>\n",
       "            </tr>\n",
       "            <tr>\n",
       "                        <th id=\"T_254f3dda_ed34_11ea_8042_40a3ccdf2667level0_row6\" class=\"row_heading level0 row6\" >speechiness</th>\n",
       "                        <td id=\"T_254f3dda_ed34_11ea_8042_40a3ccdf2667row6_col0\" class=\"data row6 col0\" >-0.026995</td>\n",
       "                        <td id=\"T_254f3dda_ed34_11ea_8042_40a3ccdf2667row6_col1\" class=\"data row6 col1\" >0.072204</td>\n",
       "                        <td id=\"T_254f3dda_ed34_11ea_8042_40a3ccdf2667row6_col2\" class=\"data row6 col2\" >0.276206</td>\n",
       "                        <td id=\"T_254f3dda_ed34_11ea_8042_40a3ccdf2667row6_col3\" class=\"data row6 col3\" >-0.109983</td>\n",
       "                        <td id=\"T_254f3dda_ed34_11ea_8042_40a3ccdf2667row6_col4\" class=\"data row6 col4\" >-0.366762</td>\n",
       "                        <td id=\"T_254f3dda_ed34_11ea_8042_40a3ccdf2667row6_col5\" class=\"data row6 col5\" >0.041173</td>\n",
       "                        <td id=\"T_254f3dda_ed34_11ea_8042_40a3ccdf2667row6_col6\" class=\"data row6 col6\" >1.000000</td>\n",
       "                        <td id=\"T_254f3dda_ed34_11ea_8042_40a3ccdf2667row6_col7\" class=\"data row6 col7\" >0.008241</td>\n",
       "                        <td id=\"T_254f3dda_ed34_11ea_8042_40a3ccdf2667row6_col8\" class=\"data row6 col8\" >0.149894</td>\n",
       "            </tr>\n",
       "            <tr>\n",
       "                        <th id=\"T_254f3dda_ed34_11ea_8042_40a3ccdf2667level0_row7\" class=\"row_heading level0 row7\" >tempo</th>\n",
       "                        <td id=\"T_254f3dda_ed34_11ea_8042_40a3ccdf2667row7_col0\" class=\"data row7 col0\" >-0.025392</td>\n",
       "                        <td id=\"T_254f3dda_ed34_11ea_8042_40a3ccdf2667row7_col1\" class=\"data row7 col1\" >-0.026310</td>\n",
       "                        <td id=\"T_254f3dda_ed34_11ea_8042_40a3ccdf2667row7_col2\" class=\"data row7 col2\" >-0.242089</td>\n",
       "                        <td id=\"T_254f3dda_ed34_11ea_8042_40a3ccdf2667row7_col3\" class=\"data row7 col3\" >0.195227</td>\n",
       "                        <td id=\"T_254f3dda_ed34_11ea_8042_40a3ccdf2667row7_col4\" class=\"data row7 col4\" >0.022215</td>\n",
       "                        <td id=\"T_254f3dda_ed34_11ea_8042_40a3ccdf2667row7_col5\" class=\"data row7 col5\" >0.002732</td>\n",
       "                        <td id=\"T_254f3dda_ed34_11ea_8042_40a3ccdf2667row7_col6\" class=\"data row7 col6\" >0.008241</td>\n",
       "                        <td id=\"T_254f3dda_ed34_11ea_8042_40a3ccdf2667row7_col7\" class=\"data row7 col7\" >1.000000</td>\n",
       "                        <td id=\"T_254f3dda_ed34_11ea_8042_40a3ccdf2667row7_col8\" class=\"data row7 col8\" >0.052221</td>\n",
       "            </tr>\n",
       "            <tr>\n",
       "                        <th id=\"T_254f3dda_ed34_11ea_8042_40a3ccdf2667level0_row8\" class=\"row_heading level0 row8\" >valence</th>\n",
       "                        <td id=\"T_254f3dda_ed34_11ea_8042_40a3ccdf2667row8_col0\" class=\"data row8 col0\" >0.010070</td>\n",
       "                        <td id=\"T_254f3dda_ed34_11ea_8042_40a3ccdf2667row8_col1\" class=\"data row8 col1\" >-0.013841</td>\n",
       "                        <td id=\"T_254f3dda_ed34_11ea_8042_40a3ccdf2667row8_col2\" class=\"data row8 col2\" >0.473165</td>\n",
       "                        <td id=\"T_254f3dda_ed34_11ea_8042_40a3ccdf2667row8_col3\" class=\"data row8 col3\" >0.038603</td>\n",
       "                        <td id=\"T_254f3dda_ed34_11ea_8042_40a3ccdf2667row8_col4\" class=\"data row8 col4\" >-0.219967</td>\n",
       "                        <td id=\"T_254f3dda_ed34_11ea_8042_40a3ccdf2667row8_col5\" class=\"data row8 col5\" >-0.045093</td>\n",
       "                        <td id=\"T_254f3dda_ed34_11ea_8042_40a3ccdf2667row8_col6\" class=\"data row8 col6\" >0.149894</td>\n",
       "                        <td id=\"T_254f3dda_ed34_11ea_8042_40a3ccdf2667row8_col7\" class=\"data row8 col7\" >0.052221</td>\n",
       "                        <td id=\"T_254f3dda_ed34_11ea_8042_40a3ccdf2667row8_col8\" class=\"data row8 col8\" >1.000000</td>\n",
       "            </tr>\n",
       "    </tbody></table>"
      ],
      "text/plain": [
       "<pandas.io.formats.style.Styler at 0x2a68e6de880>"
      ]
     },
     "execution_count": 3,
     "metadata": {},
     "output_type": "execute_result"
    }
   ],
   "source": [
    "# Create a correlation matrix\n",
    "corr_matrix = df.corr()\n",
    "corr_matrix.style.background_gradient()"
   ]
  },
  {
   "cell_type": "markdown",
   "metadata": {},
   "source": [
    "### Normalizing the feature data"
   ]
  },
  {
   "cell_type": "markdown",
   "metadata": {},
   "source": [
    "Since we didn’t find any particular strong correlations between our features, we can instead use a common approach to reduce the number of features called principal component analysis (PCA)."
   ]
  },
  {
   "cell_type": "markdown",
   "metadata": {},
   "source": [
    "Normalization and Standardization\n",
    "https://www.analyticsvidhya.com/blog/2020/04/feature-scaling-machine-learning-normalization-standardization/\n"
   ]
  },
  {
   "cell_type": "code",
   "execution_count": 4,
   "metadata": {},
   "outputs": [],
   "source": [
    "#from sklearn import preprocessing\n",
    "\n",
    "# Separating out the features \n",
    "x_features = df.drop([\"genre_top\",\"track_id\"], axis=1)\n",
    "\n",
    "# # Separating out the target\n",
    "y_target = df[\"genre_top\"]\n",
    "\n",
    "#standardization\n",
    "std_scaled = preprocessing.StandardScaler().fit_transform(x_features)\n",
    "#minmax_scale = preprocessing.MinMaxScaler().fit_transform(x_features)"
   ]
  },
  {
   "cell_type": "markdown",
   "metadata": {},
   "source": [
    "### Principal component analysis on our scaled data"
   ]
  },
  {
   "cell_type": "code",
   "execution_count": 5,
   "metadata": {},
   "outputs": [
    {
     "data": {
      "text/plain": [
       "PCA()"
      ]
     },
     "execution_count": 5,
     "metadata": {},
     "output_type": "execute_result"
    }
   ],
   "source": [
    "#from sklearn.decomposition import PCA\n",
    "pca = PCA()\n",
    "pca.fit(std_scaled)"
   ]
  },
  {
   "cell_type": "markdown",
   "metadata": {},
   "source": [
    "While applying PCA you can mention how many principal components you want to keep...#pca=PCA(n_components=3)"
   ]
  },
  {
   "cell_type": "markdown",
   "metadata": {},
   "source": [
    "The explained variance tells you how much information (variance) can be attributed to each of the principal components."
   ]
  },
  {
   "cell_type": "code",
   "execution_count": 6,
   "metadata": {},
   "outputs": [
    {
     "data": {
      "text/plain": [
       "array([0.24297674, 0.18044316, 0.13650309, 0.12994089, 0.11056248,\n",
       "       0.08302245, 0.06923783, 0.04731336])"
      ]
     },
     "execution_count": 6,
     "metadata": {},
     "output_type": "execute_result"
    }
   ],
   "source": [
    "variances = pca.explained_variance_ratio_\n",
    "variances"
   ]
  },
  {
   "cell_type": "code",
   "execution_count": 7,
   "metadata": {},
   "outputs": [
    {
     "data": {
      "text/plain": [
       "<BarContainer object of 8 artists>"
      ]
     },
     "execution_count": 7,
     "metadata": {},
     "output_type": "execute_result"
    },
    {
     "data": {
      "image/png": "[encoded data removed]",
      "text/plain": [
       "<Figure size 432x288 with 1 Axes>"
      ]
     },
     "metadata": {
      "needs_background": "light"
     },
     "output_type": "display_data"
    }
   ],
   "source": [
    "fig, ax = plt.subplots()\n",
    "ax.bar(range(pca.n_components_),variances)"
   ]
  },
  {
   "cell_type": "markdown",
   "metadata": {},
   "source": [
    "### Further visualization of PCA"
   ]
  },
  {
   "cell_type": "markdown",
   "metadata": {},
   "source": [
    "Cumulative explained variance plot is used to determine how many features are required.We determine the appropriate number of components, so that can perform PCA with that many components, ideally reducing the dimensionality of our data."
   ]
  },
  {
   "cell_type": "code",
   "execution_count": 8,
   "metadata": {},
   "outputs": [
    {
     "data": {
      "text/plain": [
       "array([0.24297674, 0.4234199 , 0.55992299, 0.68986388, 0.80042636,\n",
       "       0.88344881, 0.95268664, 1.        ])"
      ]
     },
     "execution_count": 8,
     "metadata": {},
     "output_type": "execute_result"
    }
   ],
   "source": [
    "# Calculate the cumulative explained variance\n",
    "cumulative_variance = np.cumsum(variances)\n",
    "cumulative_variance"
   ]
  },
  {
   "cell_type": "code",
   "execution_count": 9,
   "metadata": {},
   "outputs": [
    {
     "data": {
      "text/plain": [
       "<matplotlib.lines.Line2D at 0x2a68ec3da00>"
      ]
     },
     "execution_count": 9,
     "metadata": {},
     "output_type": "execute_result"
    },
    {
     "data": {
      "image/png": "[encoded data removed]",
      "text/plain": [
       "<Figure size 432x288 with 1 Axes>"
      ]
     },
     "metadata": {
      "needs_background": "light"
     },
     "output_type": "display_data"
    }
   ],
   "source": [
    "fig, ax = plt.subplots()\n",
    "ax.plot(range(8), cumulative_variance)\n",
    "ax.axhline(y=0.9, linestyle='--')"
   ]
  },
  {
   "cell_type": "markdown",
   "metadata": {},
   "source": [
    "In above plot 0.9 indicates Scikit-learn choose the minimum number of principal components such that 90% of the variance is retained."
   ]
  },
  {
   "cell_type": "code",
   "execution_count": 10,
   "metadata": {},
   "outputs": [
    {
     "data": {
      "text/plain": [
       "array([[ 1.59666656,  1.0500117 , -0.01778555,  0.73142514, -0.36832686,\n",
       "        -0.71505324],\n",
       "       [ 1.58153526,  1.07661327,  1.04346038,  0.16929959, -1.81917099,\n",
       "         1.3884574 ],\n",
       "       [ 2.01545627,  1.4085176 ,  0.24506524, -1.53545814,  0.62769959,\n",
       "        -0.45716338],\n",
       "       ...,\n",
       "       [ 1.66908628,  1.84010121,  2.38294303, -2.12871589,  1.23664547,\n",
       "        -0.63277253],\n",
       "       [ 1.17001951,  2.03158181,  0.08689922,  0.88396123, -1.45765649,\n",
       "        -0.03590123],\n",
       "       [ 2.36368976,  1.15900708,  0.4473735 , -1.35198128, -0.03592518,\n",
       "         0.82678557]])"
      ]
     },
     "execution_count": 10,
     "metadata": {},
     "output_type": "execute_result"
    }
   ],
   "source": [
    "n_components = 6\n",
    "\n",
    "# Perform PCA with the chosen number of components & Apply the mapping (transform)\n",
    "pca = PCA(n_components, random_state=1)\n",
    "pca.fit(std_scaled)\n",
    "pca_projection = pca.transform(std_scaled)\n",
    "pca_projection"
   ]
  },
  {
   "cell_type": "code",
   "execution_count": 11,
   "metadata": {},
   "outputs": [
    {
     "data": {
      "text/plain": [
       "(4802, 6)"
      ]
     },
     "execution_count": 11,
     "metadata": {},
     "output_type": "execute_result"
    }
   ],
   "source": [
    "pca_projection.shape"
   ]
  },
  {
   "cell_type": "markdown",
   "metadata": {},
   "source": [
    "### Train a decision tree to classify genre\n"
   ]
  },
  {
   "cell_type": "code",
   "execution_count": 12,
   "metadata": {},
   "outputs": [],
   "source": [
    "# Split our data\n",
    "X_train, X_test, y_train, y_test = train_test_split(pca_projection, y_target,random_state=42)\n",
    "\n",
    "# Train our decision tree\n",
    "tree = DecisionTreeClassifier(random_state=42)\n",
    "tree.fit(X_train, y_train)\n",
    "\n",
    "#Predicting the Test set results\n",
    "y_pred = tree.predict(X_test)"
   ]
  },
  {
   "cell_type": "markdown",
   "metadata": {},
   "source": [
    "Making the Confusion Matrix"
   ]
  },
  {
   "cell_type": "code",
   "execution_count": 13,
   "metadata": {},
   "outputs": [
    {
     "name": "stdout",
     "output_type": "stream",
     "text": [
      "[[146  79]\n",
      " [ 91 885]]\n"
     ]
    },
    {
     "data": {
      "text/plain": [
       "0.858451290591174"
      ]
     },
     "execution_count": 13,
     "metadata": {},
     "output_type": "execute_result"
    }
   ],
   "source": [
    "from sklearn.metrics import confusion_matrix, accuracy_score,classification_report\n",
    "cm = confusion_matrix(y_test, y_pred)\n",
    "print(cm)\n",
    "accuracy_score(y_test, y_pred)"
   ]
  },
  {
   "cell_type": "code",
   "execution_count": 14,
   "metadata": {},
   "outputs": [
    {
     "name": "stdout",
     "output_type": "stream",
     "text": [
      "              precision    recall  f1-score   support\n",
      "\n",
      "     Hip-Hop       0.62      0.65      0.63       225\n",
      "        Rock       0.92      0.91      0.91       976\n",
      "\n",
      "    accuracy                           0.86      1201\n",
      "   macro avg       0.77      0.78      0.77      1201\n",
      "weighted avg       0.86      0.86      0.86      1201\n",
      "\n"
     ]
    }
   ],
   "source": [
    "print(classification_report(y_test, y_pred))"
   ]
  },
  {
   "cell_type": "markdown",
   "metadata": {},
   "source": [
    "\n",
    "### Compare our decision tree model to a logistic regression"
   ]
  },
  {
   "cell_type": "code",
   "execution_count": 15,
   "metadata": {},
   "outputs": [],
   "source": [
    "#Logistic regression\n",
    "from sklearn.linear_model import LogisticRegression\n",
    "classifier = LogisticRegression(random_state = 42)\n",
    "classifier.fit(X_train, y_train)\n",
    "y_pred_logreg = classifier.predict(X_test)"
   ]
  },
  {
   "cell_type": "markdown",
   "metadata": {},
   "source": [
    "Making the Confusion Matrix"
   ]
  },
  {
   "cell_type": "code",
   "execution_count": 16,
   "metadata": {},
   "outputs": [
    {
     "name": "stdout",
     "output_type": "stream",
     "text": [
      "[[121 104]\n",
      " [ 34 942]]\n"
     ]
    },
    {
     "data": {
      "text/plain": [
       "0.8850957535387177"
      ]
     },
     "execution_count": 16,
     "metadata": {},
     "output_type": "execute_result"
    }
   ],
   "source": [
    "cm = confusion_matrix(y_test, y_pred_logreg)\n",
    "print(cm)\n",
    "accuracy_score(y_test, y_pred_logreg)"
   ]
  },
  {
   "cell_type": "code",
   "execution_count": 17,
   "metadata": {},
   "outputs": [
    {
     "name": "stdout",
     "output_type": "stream",
     "text": [
      "              precision    recall  f1-score   support\n",
      "\n",
      "     Hip-Hop       0.78      0.54      0.64       225\n",
      "        Rock       0.90      0.97      0.93       976\n",
      "\n",
      "    accuracy                           0.89      1201\n",
      "   macro avg       0.84      0.75      0.78      1201\n",
      "weighted avg       0.88      0.89      0.88      1201\n",
      "\n"
     ]
    }
   ],
   "source": [
    "print(classification_report(y_test, y_pred_logreg))"
   ]
  },
  {
   "cell_type": "markdown",
   "metadata": {},
   "source": [
    "Both our models do similarly well, boasting an average precision of 86% each. However, looking at our classification report, we can see that rock song are fairly well classified, but hip-hop songs are disproportionately misclassified as rock songs.\n",
    "Why might this be the case?\n",
    "Well, just by looking at the number of data points we have for each class, we see that we have far more data points for the rock classification than for hip-hop, potentially skewing our model’s ability to distinguish between classes."
   ]
  },
  {
   "cell_type": "code",
   "execution_count": 18,
   "metadata": {},
   "outputs": [
    {
     "data": {
      "text/plain": [
       "Rock       3892\n",
       "Hip-Hop     910\n",
       "Name: genre_top, dtype: int64"
      ]
     },
     "execution_count": 18,
     "metadata": {},
     "output_type": "execute_result"
    }
   ],
   "source": [
    "y_target.value_counts()"
   ]
  },
  {
   "cell_type": "markdown",
   "metadata": {},
   "source": [
    "To account for this,Balance our data for greater performance."
   ]
  },
  {
   "cell_type": "markdown",
   "metadata": {},
   "source": [
    "### Balance our data for greater performance"
   ]
  },
  {
   "cell_type": "code",
   "execution_count": 19,
   "metadata": {},
   "outputs": [],
   "source": [
    "hop = df.loc[df[\"genre_top\"] == \"Hip-Hop\"]\n",
    "rock = df.loc[df[\"genre_top\"] == \"Rock\"]"
   ]
  },
  {
   "cell_type": "code",
   "execution_count": 20,
   "metadata": {},
   "outputs": [
    {
     "name": "stdout",
     "output_type": "stream",
     "text": [
      "910\n",
      "3892\n"
     ]
    }
   ],
   "source": [
    "print(len(hop))\n",
    "print(len(rock))"
   ]
  },
  {
   "cell_type": "code",
   "execution_count": 21,
   "metadata": {},
   "outputs": [
    {
     "data": {
      "text/plain": [
       "Hip-Hop    910\n",
       "Rock       910\n",
       "Name: genre_top, dtype: int64"
      ]
     },
     "execution_count": 21,
     "metadata": {},
     "output_type": "execute_result"
    }
   ],
   "source": [
    "balanced_data_set = pd.concat([rock.sample(n=910,random_state=10), hop.sample(n=910)], axis=0)\n",
    "balanced_data_set.genre_top.value_counts()"
   ]
  },
  {
   "cell_type": "markdown",
   "metadata": {},
   "source": [
    "### Does balancing our dataset improve model bias?"
   ]
  },
  {
   "cell_type": "code",
   "execution_count": 22,
   "metadata": {},
   "outputs": [],
   "source": [
    "x_features_bal = balanced_data_set.drop(['genre_top', 'track_id'], axis=1) \n",
    "y_target_bal = balanced_data_set['genre_top']\n",
    "std_scaled_bal = preprocessing.StandardScaler().fit_transform(x_features_bal)\n",
    "\n",
    "pca_bal = PCA(n_components, random_state=1)\n",
    "pca_bal.fit(std_scaled_bal)\n",
    "pca_projection_bal = pca.transform(std_scaled_bal)"
   ]
  },
  {
   "cell_type": "code",
   "execution_count": 23,
   "metadata": {},
   "outputs": [
    {
     "data": {
      "text/plain": [
       "(1820, 6)"
      ]
     },
     "execution_count": 23,
     "metadata": {},
     "output_type": "execute_result"
    }
   ],
   "source": [
    "pca_projection_bal.shape"
   ]
  },
  {
   "cell_type": "code",
   "execution_count": 24,
   "metadata": {},
   "outputs": [],
   "source": [
    "X_train_bal, X_test_bal, y_train_bal, y_test_bal = train_test_split(pca_projection_bal, y_target_bal,random_state=0)\n",
    "\n",
    "# Train our decision tree\n",
    "tree_bal = DecisionTreeClassifier(random_state=42)\n",
    "tree_bal.fit(X_train_bal, y_train_bal)\n",
    "\n",
    "#Predicting the Test set results\n",
    "y_pred_bal = tree_bal.predict(X_test_bal)"
   ]
  },
  {
   "cell_type": "code",
   "execution_count": 25,
   "metadata": {},
   "outputs": [
    {
     "name": "stdout",
     "output_type": "stream",
     "text": [
      "(1365, 6)\n",
      "(455, 6)\n",
      "(1365,)\n",
      "(455,)\n"
     ]
    }
   ],
   "source": [
    "print(X_train_bal.shape)\n",
    "print(X_test_bal.shape)\n",
    "print(y_train_bal.shape)\n",
    "print(y_test_bal.shape)"
   ]
  },
  {
   "cell_type": "code",
   "execution_count": 26,
   "metadata": {},
   "outputs": [
    {
     "name": "stdout",
     "output_type": "stream",
     "text": [
      "[[181  48]\n",
      " [ 47 179]]\n"
     ]
    },
    {
     "data": {
      "text/plain": [
       "0.7912087912087912"
      ]
     },
     "execution_count": 26,
     "metadata": {},
     "output_type": "execute_result"
    }
   ],
   "source": [
    "#decision tree\n",
    "cm_bal = confusion_matrix(y_test_bal, y_pred_bal)\n",
    "print(cm_bal)\n",
    "accuracy_score(y_test_bal, y_pred_bal)"
   ]
  },
  {
   "cell_type": "code",
   "execution_count": 27,
   "metadata": {},
   "outputs": [],
   "source": [
    "classifier_bal = LogisticRegression(random_state = 42)\n",
    "classifier_bal.fit(X_train_bal, y_train_bal)\n",
    "y_pred_logreg_bal = classifier_bal.predict(X_test_bal)"
   ]
  },
  {
   "cell_type": "code",
   "execution_count": 28,
   "metadata": {},
   "outputs": [
    {
     "name": "stdout",
     "output_type": "stream",
     "text": [
      "[[187  42]\n",
      " [ 35 191]]\n"
     ]
    },
    {
     "data": {
      "text/plain": [
       "0.8307692307692308"
      ]
     },
     "execution_count": 28,
     "metadata": {},
     "output_type": "execute_result"
    }
   ],
   "source": [
    "cm_bal = confusion_matrix(y_test_bal, y_pred_logreg_bal)\n",
    "print(cm_bal)\n",
    "accuracy_score(y_test_bal, y_pred_logreg_bal)"
   ]
  },
  {
   "cell_type": "code",
   "execution_count": 29,
   "metadata": {},
   "outputs": [
    {
     "name": "stdout",
     "output_type": "stream",
     "text": [
      "Decision Tree: \n",
      "               precision    recall  f1-score   support\n",
      "\n",
      "     Hip-Hop       0.79      0.79      0.79       229\n",
      "        Rock       0.79      0.79      0.79       226\n",
      "\n",
      "    accuracy                           0.79       455\n",
      "   macro avg       0.79      0.79      0.79       455\n",
      "weighted avg       0.79      0.79      0.79       455\n",
      "\n",
      "Logistic Regression: \n",
      "               precision    recall  f1-score   support\n",
      "\n",
      "     Hip-Hop       0.84      0.82      0.83       229\n",
      "        Rock       0.82      0.85      0.83       226\n",
      "\n",
      "    accuracy                           0.83       455\n",
      "   macro avg       0.83      0.83      0.83       455\n",
      "weighted avg       0.83      0.83      0.83       455\n",
      "\n"
     ]
    }
   ],
   "source": [
    "print(\"Decision Tree: \\n\", classification_report(y_test_bal, y_pred_bal))\n",
    "print(\"Logistic Regression: \\n\", classification_report(y_test_bal,y_pred_logreg_bal ))"
   ]
  },
  {
   "cell_type": "markdown",
   "metadata": {},
   "source": [
    "### Using cross-validation to evaluate our models"
   ]
  },
  {
   "cell_type": "code",
   "execution_count": 30,
   "metadata": {},
   "outputs": [],
   "source": [
    "from sklearn.model_selection import KFold, cross_val_score"
   ]
  },
  {
   "cell_type": "code",
   "execution_count": 31,
   "metadata": {},
   "outputs": [],
   "source": [
    "# Set up our K-fold cross-validation\n",
    "kf = KFold(n_splits=30)"
   ]
  },
  {
   "cell_type": "code",
   "execution_count": 32,
   "metadata": {},
   "outputs": [],
   "source": [
    "tree = DecisionTreeClassifier(random_state=42)\n",
    "logreg = LogisticRegression(random_state=42)"
   ]
  },
  {
   "cell_type": "code",
   "execution_count": 33,
   "metadata": {},
   "outputs": [
    {
     "name": "stdout",
     "output_type": "stream",
     "text": [
      "Decision Tree: 0.8600375258799172 Logistic Regression: 0.8727355072463768\n"
     ]
    }
   ],
   "source": [
    "# Train our models using KFold cv\n",
    "tree_score = cross_val_score(tree, pca_projection, y_target, cv=kf)\n",
    "log_reg_score = cross_val_score(logreg, pca_projection,y_target, cv=kf)\n",
    "\n",
    "# Print the mean of each array of scores\n",
    "print(\"Decision Tree:\", np.mean(tree_score), \"Logistic Regression:\", np.mean(log_reg_score))"
   ]
  },
  {
   "cell_type": "code",
   "execution_count": null,
   "metadata": {},
   "outputs": [],
   "source": []
  },
  {
   "cell_type": "code",
   "execution_count": 34,
   "metadata": {},
   "outputs": [],
   "source": [
    "# Saving model to disk\n",
    "Pkl_Filename = \"model.pkl\"  \n",
    "\n",
    "with open(Pkl_Filename, 'wb') as file:  \n",
    "    pickle.dump(classifier_bal, file)"
   ]
  },
  {
   "cell_type": "code",
   "execution_count": 35,
   "metadata": {},
   "outputs": [],
   "source": [
    "# Saving model to disk\n",
    "#pickle.dump(classifier_bal, open('model.pkl','wb'))\n",
    "# Loading model to compare the results\n",
    "#model = pickle.load(open('model.pkl','rb'))"
   ]
  }
 ],
 "metadata": {
  "kernelspec": {
   "display_name": "Python 3",
   "language": "python",
   "name": "python3"
  },
  "language_info": {
   "codemirror_mode": {
    "name": "ipython",
    "version": 3
   },
   "file_extension": ".py",
   "mimetype": "text/x-python",
   "name": "python",
   "nbconvert_exporter": "python",
   "pygments_lexer": "ipython3",
   "version": "3.8.3"
  }
 },
 "nbformat": 4,
 "nbformat_minor": 4
}
